{
 "cells": [
  {
   "cell_type": "markdown",
   "id": "46184878-72e3-4893-a1da-e1970e2988ea",
   "metadata": {},
   "source": [
    "# My Jupyter Notebook on IBM Watson Studio"
   ]
  },
  {
   "cell_type": "markdown",
   "id": "516989d4-667c-4e42-b672-f9a8148ca4cc",
   "metadata": {
    "jp-MarkdownHeadingCollapsed": true,
    "tags": []
   },
   "source": [
    "**Shaima**\n",
    "\n",
    "data analyst"
   ]
  },
  {
   "cell_type": "markdown",
   "id": "20e5ac38-9a0d-4a33-b790-63136f53f5f5",
   "metadata": {},
   "source": [
    "_i'm interested in data science because i love working with data_"
   ]
  },
  {
   "cell_type": "markdown",
   "id": "62891963-71de-45fc-a4ce-226fe6607720",
   "metadata": {},
   "source": [
    "### will add one to one"
   ]
  },
  {
   "cell_type": "code",
   "execution_count": 2,
   "id": "c2ace337-06cf-464e-ac40-dfed4df2c971",
   "metadata": {},
   "outputs": [
    {
     "data": {
      "text/plain": [
       "2"
      ]
     },
     "execution_count": 2,
     "metadata": {},
     "output_type": "execute_result"
    }
   ],
   "source": [
    "1+1"
   ]
  },
  {
   "cell_type": "markdown",
   "id": "42d449c1-804b-4ed1-b771-970a85b60110",
   "metadata": {},
   "source": [
    "next\n",
    "> this is a blocked quote **shayma**"
   ]
  },
  {
   "cell_type": "markdown",
   "id": "2e6a276a-ed47-4bda-923e-c95938431ee8",
   "metadata": {},
   "source": [
    "* one\n",
    "* two\n",
    "* three"
   ]
  },
  {
   "cell_type": "markdown",
   "id": "92f558b1-0d93-43cb-93ff-fdbc308ba8c9",
   "metadata": {},
   "source": [
    "1. one\n",
    "2. two\n",
    "3. three"
   ]
  },
  {
   "cell_type": "code",
   "execution_count": null,
   "id": "3e51f310-d7b8-47ef-8dda-719359c0b9d3",
   "metadata": {},
   "outputs": [],
   "source": []
  }
 ],
 "metadata": {
  "kernelspec": {
   "display_name": "Python",
   "language": "python",
   "name": "conda-env-python-py"
  },
  "language_info": {
   "codemirror_mode": {
    "name": "ipython",
    "version": 3
   },
   "file_extension": ".py",
   "mimetype": "text/x-python",
   "name": "python",
   "nbconvert_exporter": "python",
   "pygments_lexer": "ipython3",
   "version": "3.7.12"
  }
 },
 "nbformat": 4,
 "nbformat_minor": 5
}
